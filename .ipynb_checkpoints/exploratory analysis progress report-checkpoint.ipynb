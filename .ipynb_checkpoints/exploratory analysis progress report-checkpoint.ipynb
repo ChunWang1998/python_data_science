{
 "cells": [
  {
   "cell_type": "markdown",
   "metadata": {
    "slideshow": {
     "slide_type": "notes"
    }
   },
   "source": [
    "## 9RC20024T\n",
    "### Topic: Crypto Investment Fund Directory\n",
    "### source of data: https://data.world/dmikebishop/crypto-investment-fund-directory"
   ]
  },
  {
   "cell_type": "markdown",
   "metadata": {
    "slideshow": {
     "slide_type": "notes"
    }
   },
   "source": [
    "#### introduction \n",
    "2018 Directory of Cryptocurrency Investment Funds, The market capitalization of cryptocurrency has exploded since 2015, reaching over $800 billion by January of 2018, and settling at over $200 billion by 3Q 2018 (from less than $20 billion in early 2017).The universe of crypto funds has similarly boomed from a couple dozen in mid 2017 to a few hundred that I have identified through 2Q 2018.\n",
    "This dataset is a directory of known crypto funds and includes names and contact information."
   ]
  },
  {
   "cell_type": "markdown",
   "metadata": {},
   "source": [
    "#### abstract\n",
    "The dataset includes a lot of info, and the important info we may use to analysis is:\n",
    "1. Country (EX: Canada,United States...)\n",
    "2. AUM (Millions) (EX: 10,20,30...)\n",
    "3. Professional Staff (EX: 3,4,5...)\n",
    "4. Founded (EX: 2015,2016,2017...)\n",
    "5. Firm Type (EX: Hedge Fund,Venture...)\n",
    "6. SEC Registered? (YES or NO)\n",
    "7. Investments (company names)\n",
    "8. Position(Founder,Director,CEO...)\n",
    "9. Form of Incorporation(Corporation,Limited Liability Company...)"
   ]
  },
  {
   "cell_type": "markdown",
   "metadata": {},
   "source": [
    "#### expectation\n",
    "1. Understand the investment status of a specific country\n",
    "2. The relationship of AUM and Professional Staff"
   ]
  },
  {
   "cell_type": "code",
   "execution_count": 24,
   "metadata": {},
   "outputs": [
    {
     "name": "stdout",
     "output_type": "stream",
     "text": [
      "200            8\n",
      "10             7\n",
      "25             6\n",
      "5              5\n",
      "50             4\n",
      "              ..\n",
      "200.977469     1\n",
      "146.778883     1\n",
      "8349.273954    1\n",
      "284.899321     1\n",
      "160            1\n",
      "Name: AUM (Millions), Length: 78, dtype: int64\n",
      "\n",
      "200            0.060150\n",
      "10             0.052632\n",
      "25             0.045113\n",
      "5              0.037594\n",
      "50             0.030075\n",
      "                 ...   \n",
      "200.977469     0.007519\n",
      "146.778883     0.007519\n",
      "8349.273954    0.007519\n",
      "284.899321     0.007519\n",
      "160            0.007519\n",
      "Name: AUM (Millions), Length: 78, dtype: float64\n"
     ]
    },
    {
     "data": {
      "text/plain": [
       "133"
      ]
     },
     "execution_count": 24,
     "metadata": {},
     "output_type": "execute_result"
    }
   ],
   "source": [
    "import pandas as pd\n",
    "import numpy as np\n",
    "import matplotlib.pyplot as plt\n",
    "df = pd.read_csv('data.csv')\n",
    "\n",
    "#Take a look at the distribution of the status_type\n",
    "print(df['AUM (Millions)'].value_counts())\n",
    "print()\n",
    "\n",
    "#represented as percentage\n",
    "print(df['AUM (Millions)'].value_counts(normalize=True))\n",
    "\n",
    "#does not include missing data\n",
    "sum(df['AUM (Millions)'].value_counts())"
   ]
  },
  {
   "cell_type": "code",
   "execution_count": 38,
   "metadata": {},
   "outputs": [
    {
     "name": "stdout",
     "output_type": "stream",
     "text": [
      "                                        SEC Registered?\n",
      "Position                                               \n",
      "0                                              0.000000\n",
      "CEO                                            0.060000\n",
      "CEO and Chief Investment Officer               1.000000\n",
      "CEO and Co-Founder                             0.000000\n",
      "CEO and Founder                                0.000000\n",
      "CEO and Managing Director                      0.000000\n",
      "CEO and President                              1.000000\n",
      "Chairman                                       0.000000\n",
      "Chief Compliance Officer                       1.000000\n",
      "Chief Financial Officer                        1.000000\n",
      "Chief Investment Officer                       0.000000\n",
      "Chief Operating Officer                        0.000000\n",
      "Co-Founder                                     0.047619\n",
      "Co-Founder and CEO                             0.000000\n",
      "Co-Founder and Chief Operating Officer         1.000000\n",
      "Co-Founder and President                       0.000000\n",
      "Director                                       0.000000\n",
      "Founder                                        0.142857\n",
      "Founder and CEO                                0.000000\n",
      "Founder and Chief Investment Officer           0.000000\n",
      "Founder and Director                           0.000000\n",
      "Founder and General Partner                    0.000000\n",
      "Founder and Managing Director                  0.000000\n",
      "Founder and Managing Partner                   0.000000\n",
      "Founding Partner                               0.111111\n",
      "General Partner                                0.125000\n",
      "Investor Relations                             0.000000\n",
      "Managing Director                              0.333333\n",
      "Managing Member                                0.250000\n",
      "Managing Partner                               0.142857\n",
      "Marketing Partner                              0.000000\n",
      "Member                                         0.666667\n",
      "Operating Partner                              0.000000\n",
      "Operations                                     0.000000\n",
      "Partner                                        0.304348\n",
      "Partner and Chief Technology Officer           0.000000\n",
      "Portfolio Manager                              0.000000\n",
      "President                                      0.000000\n",
      "President and CEO                              0.333333\n",
      "Principal                                      0.000000\n",
      "Senior Portfolio Manager                       0.000000\n"
     ]
    }
   ],
   "source": [
    "def aggfunc(array):\n",
    "    return array.map({'Yes':1,'No':0}).mean()     #the method map changes 'y' to 1 and 'N' to 0 in the array and then mean is calculated\n",
    "    \n",
    "    \n",
    "temp1 = df.pivot_table(values='SEC Registered?',index=['Position'],aggfunc=aggfunc)\n",
    "print (temp1)   \n"
   ]
  },
  {
   "cell_type": "code",
   "execution_count": 40,
   "metadata": {},
   "outputs": [
    {
     "data": {
      "text/plain": [
       "<matplotlib.axes._subplots.AxesSubplot at 0x27048d13490>"
      ]
     },
     "execution_count": 40,
     "metadata": {},
     "output_type": "execute_result"
    },
    {
     "data": {
      "image/png": "[encoded data removed]",
      "text/plain": [
       "<Figure size 432x288 with 1 Axes>"
      ]
     },
     "metadata": {
      "needs_background": "light"
     },
     "output_type": "display_data"
    }
   ],
   "source": [
    "# show bar type\n",
    "temp1.plot(kind='bar')"
   ]
  },
  {
   "cell_type": "markdown",
   "metadata": {},
   "source": [
    "### Data munging\n",
    "#### Check missing values in the dataset"
   ]
  },
  {
   "cell_type": "code",
   "execution_count": 41,
   "metadata": {},
   "outputs": [
    {
     "data": {
      "text/plain": [
       "Firm Name                               0\n",
       "Address                                 0\n",
       "Address 2                               1\n",
       "City                                    0\n",
       "State/Province                          1\n",
       "Zip                                     0\n",
       "Country                                 0\n",
       "Map                                     0\n",
       "Code                                    0\n",
       "Phone                                   0\n",
       "Fax                                     0\n",
       "URL                                     0\n",
       "Contact Title (Mr/Ms.)                  0\n",
       "Primary Contact                         0\n",
       "Position                                0\n",
       "Contact 2                               0\n",
       "Contact 2 Title                         2\n",
       "Contact 2 Email                       133\n",
       "Contact 3                               0\n",
       "Contact 3 Title                         0\n",
       "Contact 3 Email                         0\n",
       "Contact 4                               0\n",
       "Contact 4 Title                         0\n",
       "Contact 4 Email                         1\n",
       "AUM (Millions)                        169\n",
       "12mo AUM Change                       272\n",
       "24mo AUM Change                       280\n",
       "Professional Staff                    118\n",
       "Founded                                 0\n",
       "Main email                             22\n",
       "Careers Email                           2\n",
       "Hiring?                               284\n",
       "Firm Type                               0\n",
       "Firm Type 2                             0\n",
       "Firm Type 3                             0\n",
       "Firm Type 4                             0\n",
       "Firm Type 5                             0\n",
       "SEC Registered?                         2\n",
       "# of Clients                          258\n",
       "# of Accounts                         258\n",
       "Change in # of Accounts % (12 mo.)    266\n",
       "Investments 1                           0\n",
       "Investments 2                           0\n",
       "Investments 3                           0\n",
       "Investments 4                           0\n",
       "Investments 5                           2\n",
       "Form of Incorporation                 258\n",
       "dtype: int64"
      ]
     },
     "execution_count": 41,
     "metadata": {},
     "output_type": "execute_result"
    }
   ],
   "source": [
    "#models might not work with missing values \n",
    "#the number of missing values in each column \n",
    "df.apply(lambda x: sum(x.isnull()),axis=0) "
   ]
  },
  {
   "cell_type": "markdown",
   "metadata": {},
   "source": [
    "#### some varibles should not have a missing values: SEC Registered? \n",
    "#### some useble data(Professional Staff,AUM (Millions),State/Province) have missing values, but we can't fill them since they miss too much(almost half)\n"
   ]
  },
  {
   "cell_type": "code",
   "execution_count": 44,
   "metadata": {},
   "outputs": [
    {
     "data": {
      "text/plain": [
       "No     0.853333\n",
       "Yes    0.146667\n",
       "Name: SEC Registered?, dtype: float64"
      ]
     },
     "execution_count": 44,
     "metadata": {},
     "output_type": "execute_result"
    }
   ],
   "source": [
    "#see frequency table\n",
    "df['SEC Registered?'].value_counts(normalize=True)"
   ]
  },
  {
   "cell_type": "code",
   "execution_count": 45,
   "metadata": {},
   "outputs": [],
   "source": [
    "#since 86% is No, it is safe to make the missing values No\n",
    "df['SEC Registered?'].fillna('No',inplace=True)"
   ]
  },
  {
   "cell_type": "code",
   "execution_count": 48,
   "metadata": {},
   "outputs": [
    {
     "data": {
      "text/plain": [
       "<matplotlib.axes._subplots.AxesSubplot at 0x27048ef50d0>"
      ]
     },
     "execution_count": 48,
     "metadata": {},
     "output_type": "execute_result"
    },
    {
     "data": {
      "image/png": "[encoded data removed]",
      "text/plain": [
       "<Figure size 432x288 with 1 Axes>"
      ]
     },
     "metadata": {
      "needs_background": "light"
     },
     "output_type": "display_data"
    }
   ],
   "source": [
    "#### treat the outlier log transform them to nullify their effect\n",
    "#### fix Professional Staff\n",
    "df['Professional Staff'].hist(bins=20)  #there are some outliers\n",
    "df['Professional Staff_log'] = np.log(df['Professional Staff'])  #add new series to the dataframe\n",
    "df['Professional Staff_log'].hist(bins=20)  #distribution looks more closer to normal and effect of extreme values has been significantly subsided"
   ]
  },
  {
   "cell_type": "code",
   "execution_count": null,
   "metadata": {},
   "outputs": [],
   "source": []
  }
 ],
 "metadata": {
  "celltoolbar": "Slideshow",
  "kernelspec": {
   "display_name": "Python 3",
   "language": "python",
   "name": "python3"
  },
  "language_info": {
   "codemirror_mode": {
    "name": "ipython",
    "version": 3
   },
   "file_extension": ".py",
   "mimetype": "text/x-python",
   "name": "python",
   "nbconvert_exporter": "python",
   "pygments_lexer": "ipython3",
   "version": "3.8.3"
  }
 },
 "nbformat": 4,
 "nbformat_minor": 4
}
